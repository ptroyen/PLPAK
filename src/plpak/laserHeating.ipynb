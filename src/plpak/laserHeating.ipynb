{
 "cells": [
  {
   "attachments": {},
   "cell_type": "markdown",
   "metadata": {},
   "source": [
    "## Laser Heating Inclusion in Plasma Decay"
   ]
  },
  {
   "cell_type": "code",
   "execution_count": 2,
   "metadata": {},
   "outputs": [
    {
     "name": "stdout",
     "output_type": "stream",
     "text": [
      "PLPAK version:  0.1.0\n"
     ]
    }
   ],
   "source": [
    "import sys\n",
    "import os\n",
    "dir = os.path.dirname(r\".\\PLPAK\")\n",
    "sys.path.append(dir)\n",
    "\n",
    "\n",
    "import PLPAK as pl\n",
    "print(\"PLPAK version: \", pl.__version__)"
   ]
  },
  {
   "attachments": {},
   "cell_type": "markdown",
   "metadata": {},
   "source": [
    "## Add the laser heating model to existing plasmaSystems class.\n",
    "\n",
    "Here, use the same plasmaSystems class and based on it extend the dTdt_ method to include laser heating. The new model will be derived from the existing model of N2plasma."
   ]
  },
  {
   "cell_type": "code",
   "execution_count": null,
   "metadata": {},
   "outputs": [],
   "source": [
    "# From the library, use one of the plasmaSystems to create a new derived class\n",
    "\n",
    "# The class to base the new class on\n",
    "baseClass = pl.plasmaSystems.N2Plasma_54Rxn # can change this to any of the plasmaSystems when needed\n",
    "\n",
    "# make the new class, only need to change the dTdt_ method.\n",
    "class N2Plasma_54Rxn_Heating(baseClass):\n",
    "\n",
    "    # instantiate the class\n",
    "    def __init__(self, Ysp, T, verbose = False, **kwargs):\n",
    "        # new variables from **kwargs\n",
    "        "
   ]
  }
 ],
 "metadata": {
  "kernelspec": {
   "display_name": "canteraNew",
   "language": "python",
   "name": "python3"
  },
  "language_info": {
   "codemirror_mode": {
    "name": "ipython",
    "version": 3
   },
   "file_extension": ".py",
   "mimetype": "text/x-python",
   "name": "python",
   "nbconvert_exporter": "python",
   "pygments_lexer": "ipython3",
   "version": "3.8.16"
  },
  "orig_nbformat": 4,
  "vscode": {
   "interpreter": {
    "hash": "ba5d4f94a2611ca3a7e4e359abcaa85627a7dc7c375c2f5b6c09e2a33c6abefe"
   }
  }
 },
 "nbformat": 4,
 "nbformat_minor": 2
}
